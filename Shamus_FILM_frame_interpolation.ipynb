{
  "nbformat": 4,
  "nbformat_minor": 0,
  "metadata": {
    "colab": {
      "provenance": [],
      "include_colab_link": true
    },
    "kernelspec": {
      "name": "python3",
      "display_name": "Python 3"
    },
    "language_info": {
      "name": "python"
    },
    "accelerator": "GPU"
  },
  "cells": [
    {
      "cell_type": "markdown",
      "metadata": {
        "id": "view-in-github",
        "colab_type": "text"
      },
      "source": [
        "<a href=\"https://colab.research.google.com/github/ss8319/FILM/blob/main/Shamus_FILM_frame_interpolation.ipynb\" target=\"_parent\"><img src=\"https://colab.research.google.com/assets/colab-badge.svg\" alt=\"Open In Colab\"/></a>"
      ]
    },
    {
      "cell_type": "code",
      "execution_count": null,
      "metadata": {
        "id": "IhDypLQFO0po"
      },
      "outputs": [],
      "source": [
        "#@title セットアップ\n",
        "\n",
        "# githubからコード取得 & ライブラリ・インストール\n",
        "! git clone https://github.com/cedro3/frame-interpolation.git\n",
        "%cd frame-interpolation\n",
        "! pip install -r requirements.txt\n",
        "\n",
        "# 学習済みパラメータ・ダウンロード\n",
        "! pip install --upgrade gdown\n",
        "import gdown\n",
        "gdown.download('https://drive.google.com/uc?id=1rEABCoyQFkmHGieKDhHXW2ZYJi12lofI', 'pretrained_models.zip', quiet=False)\n",
        "! unzip pretrained_models.zip\n",
        "\n",
        "# ライブラリ・インポート\n",
        "from function import *"
      ]
    },
    {
      "cell_type": "code",
      "source": [
        "#@title 補間動画の作成\n",
        "select_folder = 'photo_2'#@param {type:\"string\"}\n",
        "times_to_interpolate =  6#@param {type:\"integer\"}\n",
        "\n",
        "! python -m eval.interpolator_cli \\\n",
        "     --pattern $select_folder\\\n",
        "     --model_path pretrained_models/film_net/Style/saved_model \\\n",
        "     --times_to_interpolate $times_to_interpolate \\\n",
        "     --output_video\n"
      ],
      "metadata": {
        "id": "XWEVqjKz6FFJ"
      },
      "execution_count": null,
      "outputs": []
    },
    {
      "cell_type": "code",
      "source": [
        "#@title 動画の再生\n",
        "display_mp4(select_folder+'/interpolated.mp4')"
      ],
      "metadata": {
        "id": "or6zezyx9rZ5"
      },
      "execution_count": null,
      "outputs": []
    },
    {
      "cell_type": "code",
      "source": [
        "#@title 前後付き動画に編集\n",
        "import cv2\n",
        "import glob\n",
        "\n",
        "reset_folder(select_folder+'/images_t')\n",
        "reset_folder(select_folder+'/images_y')\n",
        "\n",
        "files = sorted(glob.glob(select_folder+'/interpolated_frames/*.png'))\n",
        "img_1 = cv2.imread(select_folder+'/frame1.jpg')\n",
        "img_2 = cv2.imread(select_folder+'/frame2.jpg')\n",
        "img_1 = cv2.resize(img_1, dsize=None, fx=0.5, fy=0.5)\n",
        "img_2 = cv2.resize(img_2, dsize=None, fx=0.5, fy=0.5)\n",
        "\n",
        "for file in files:\n",
        "    img = cv2.imread(file)\n",
        "\n",
        "    # 縦長\n",
        "    up = cv2.hconcat([img_1, img_2])\n",
        "    image1 = cv2.vconcat([up, img])\n",
        "    name = os.path.basename(file)\n",
        "    cv2.imwrite(select_folder+'/images_t/'+name, image1)\n",
        "\n",
        "    # 横長\n",
        "    side = cv2.vconcat([img_1, img_2])\n",
        "    image2 = cv2.hconcat([side, img])\n",
        "    name = os.path.basename(file)\n",
        "    cv2.imwrite(select_folder+'/images_y/'+name, image2)\n",
        "\n",
        "!ffmpeg -y -r 30 -i $select_folder/images_t/frame_%03d.png -vcodec libx264 -pix_fmt yuv420p -loglevel error output1.mp4\n",
        "!ffmpeg -y -r 30 -i $select_folder/images_y/frame_%03d.png -vcodec libx264 -pix_fmt yuv420p -loglevel error output2.mp4\n"
      ],
      "metadata": {
        "id": "SF7RBLgzppIi"
      },
      "execution_count": null,
      "outputs": []
    },
    {
      "cell_type": "code",
      "source": [
        "#@title  横に付加した動画の再生\n",
        "display_mp4('output2.mp4')"
      ],
      "metadata": {
        "id": "VOwJK3RJwNuu"
      },
      "execution_count": null,
      "outputs": []
    },
    {
      "cell_type": "code",
      "source": [
        "#@title 上に付加した動画の再生\n",
        "display_mp4('output1.mp4')"
      ],
      "metadata": {
        "id": "NzLi3zN1w0Dn"
      },
      "execution_count": null,
      "outputs": []
    }
  ]
}